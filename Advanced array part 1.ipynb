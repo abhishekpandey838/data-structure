{
 "cells": [
  {
   "cell_type": "markdown",
   "id": "1ab37f69",
   "metadata": {},
   "source": [
    "## Find the contiguous non-empty subarray within an array, A of length N, with the largest sum.\n",
    "\n",
    "Problem Constraints\n",
    "1 <= N <= 1e6\n",
    "-1000 <= A[i] <= 1000\n",
    "\n",
    "The first and the only argument contains an integer array, A.\n",
    "\n",
    "Return an integer representing the maximum possible sum of the contiguous subarray.\n",
    "\n",
    "Example Input\n",
    "Input 1:\n",
    "\n",
    "A = [1, 2, 3, 4, -10] \n",
    "Input 2:\n",
    "\n",
    "A = [-2, 1, -3, 4, -1, 2, 1, -5, 4] \n",
    " \n",
    "Explanation 1:\n",
    "\n",
    " The subarray [1, 2, 3, 4] has the maximum possible sum of 10. \n",
    "Explanation 2:\n",
    "\n",
    " The subarray [4,-1,2,1] has the maximum possible sum of 6.  \n",
    " "
   ]
  },
  {
   "cell_type": "code",
   "execution_count": 2,
   "id": "a084ae80",
   "metadata": {},
   "outputs": [
    {
     "data": {
      "text/plain": [
       "10"
      ]
     },
     "execution_count": 2,
     "metadata": {},
     "output_type": "execute_result"
    }
   ],
   "source": [
    "#Solution\n",
    "\n",
    "\n",
    "def maxSubArray(A):\n",
    "    sum = 0 \n",
    "    import sys\n",
    "    max_size = sys.maxsize\n",
    "    ans = -sys.maxsize - 1\n",
    "    sum = 0 \n",
    "    for i in range(0,len(A)):\n",
    "        sum = sum + A[i]\n",
    "        if sum >= 0 :\n",
    "            if sum > ans:\n",
    "                ans = sum\n",
    "\n",
    "        else:\n",
    "            if sum > ans:\n",
    "                ans = sum\n",
    "            sum = 0 \n",
    "\n",
    "    return ans                      \n",
    "\n",
    "maxSubArray( [1, 2, 3, 4, -10] )\n"
   ]
  },
  {
   "cell_type": "markdown",
   "id": "e8d06065",
   "metadata": {},
   "source": [
    "### Ques 2 \n",
    "There are A beggars sitting in a row outside a temple. Each beggar initially has an empty pot. When the devotees come to the temple, they donate some amount of coins to these beggars. Each devotee gives a fixed amount of coin(according to their faith and ability) to some K beggars sitting next to each other.\n",
    "Given the amount P donated by each devotee to the beggars ranging from L to R index, where 1 <= L <= R <= A, find out the final amount of money in each beggar's pot at the end of the day, provided they don't fill their pots by any other means.\n",
    "For ith devotee B[i][0] = L, B[i][1] = R, B[i][2] = P, Given by the 2D array B\n",
    "\n",
    "\n",
    "A = 5\n",
    "B = [[1, 2, 10], [2, 3, 20], [2, 5, 25]]\n",
    "\n",
    "output\n",
    "10 55 45 25 25\n"
   ]
  },
  {
   "cell_type": "code",
   "execution_count": 30,
   "id": "b6ea9cd8",
   "metadata": {},
   "outputs": [
    {
     "data": {
      "text/plain": [
       "[10, 55, 45, 25, 25]"
      ]
     },
     "execution_count": 30,
     "metadata": {},
     "output_type": "execute_result"
    }
   ],
   "source": [
    "def solve( A, B):\n",
    "    beggers = [0]*A\n",
    "    for i in range(0,len(B)):\n",
    "        l = B[i][0] - 1  \n",
    "        r = B[i][1] - 1\n",
    "        value =  B[i][2] \n",
    "        beggers[l] = beggers[l] + value\n",
    "        if r > len(beggers) - 1:\n",
    "            pass\n",
    "        else:\n",
    "            if r == len(beggers) - 1:\n",
    "                pass\n",
    "            else:\n",
    "                beggers[r + 1] = beggers[r + 1] - value\n",
    "\n",
    "    prefix_array = [] \n",
    "    sum = 0\n",
    "    for i in range(0,len(beggers)):\n",
    "        sum = sum + beggers[i]\n",
    "        prefix_array.append(sum)\n",
    "    return  prefix_array   \n",
    "A = 5\n",
    "B = [[1, 2, 10], [2, 3, 20], [2, 5, 25]]\n",
    "solve(A,B)"
   ]
  }
 ],
 "metadata": {
  "kernelspec": {
   "display_name": "Python 3 (ipykernel)",
   "language": "python",
   "name": "python3"
  },
  "language_info": {
   "codemirror_mode": {
    "name": "ipython",
    "version": 3
   },
   "file_extension": ".py",
   "mimetype": "text/x-python",
   "name": "python",
   "nbconvert_exporter": "python",
   "pygments_lexer": "ipython3",
   "version": "3.9.13"
  }
 },
 "nbformat": 4,
 "nbformat_minor": 5
}
