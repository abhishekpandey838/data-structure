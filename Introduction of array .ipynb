{
 "cells": [
  {
   "cell_type": "raw",
   "id": "bd9e2b20",
   "metadata": {},
   "source": [
    "Q1 : Given an array A of N integers. Count the number of elements that have at least 1 elements greater than itself.\n",
    "input - A = [3, 1, 2]\n",
    "output - 2\n",
    "The elements that have at least 1 element greater than itself are 1 and 2"
   ]
  },
  {
   "cell_type": "markdown",
   "id": "8e0d66f1",
   "metadata": {},
   "source": [
    "# Brute force approch :"
   ]
  },
  {
   "cell_type": "code",
   "execution_count": null,
   "id": "e07a6c1e",
   "metadata": {},
   "outputs": [],
   "source": [
    "# * Find max element \n",
    "# * find count element less than max\n",
    "# * ans = N - count \n",
    "max = 0\n",
    "for i in range(0,len(A)):\n",
    "    if A[i] > max:\n",
    "        max = A[i]\n",
    "count = 0         \n",
    "for i in range(0,len(A)):\n",
    "    if A[i]< max :\n",
    "        count = count + 1\n",
    "        \n",
    "return count     \n",
    "    "
   ]
  },
  {
   "cell_type": "code",
   "execution_count": 17,
   "id": "1ff4db98",
   "metadata": {},
   "outputs": [],
   "source": [
    "## Optimized  approch\n",
    "A = [3, 1, 2,4,3]\n",
    "import sys\n",
    "count = 0 \n",
    "max = -sys.maxsize - 1\n",
    "\n",
    "for i in range(0,len(A)):\n",
    "    if A[i] >= max:\n",
    "        if i == 0 or max == A[i]:\n",
    "            max = A[i]\n",
    "        else:\n",
    "            count = count  + 1\n",
    "            \n",
    "    else:\n",
    "        count = count + 1"
   ]
  },
  {
   "cell_type": "code",
   "execution_count": 18,
   "id": "9c7e2ca5",
   "metadata": {},
   "outputs": [
    {
     "data": {
      "text/plain": [
       "3"
      ]
     },
     "execution_count": 18,
     "metadata": {},
     "output_type": "execute_result"
    }
   ],
   "source": [
    "count"
   ]
  },
  {
   "cell_type": "code",
   "execution_count": 9,
   "id": "cd5454fb",
   "metadata": {},
   "outputs": [
    {
     "data": {
      "text/plain": [
       "-9223372036854775808"
      ]
     },
     "execution_count": 9,
     "metadata": {},
     "output_type": "execute_result"
    }
   ],
   "source": [
    "-sys.maxsize - 1"
   ]
  }
 ],
 "metadata": {
  "kernelspec": {
   "display_name": "Python 3 (ipykernel)",
   "language": "python",
   "name": "python3"
  },
  "language_info": {
   "codemirror_mode": {
    "name": "ipython",
    "version": 3
   },
   "file_extension": ".py",
   "mimetype": "text/x-python",
   "name": "python",
   "nbconvert_exporter": "python",
   "pygments_lexer": "ipython3",
   "version": "3.9.13"
  }
 },
 "nbformat": 4,
 "nbformat_minor": 5
}
