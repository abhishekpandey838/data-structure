{
 "cells": [
  {
   "cell_type": "code",
   "execution_count": 10,
   "id": "7a182e8d",
   "metadata": {},
   "outputs": [
    {
     "name": "stdout",
     "output_type": "stream",
     "text": [
      "10\n",
      "2\n"
     ]
    }
   ],
   "source": [
    "class ComplexNumber:\n",
    "\n",
    "    real = 0 \n",
    "    imaginary = 0\n",
    "    \n",
    "    # Define constructor here\n",
    "    def __init__(self,real,imaginary):\n",
    "        self.real = real\n",
    "        self.imaginary = imaginary \n",
    "\n",
    "    def add(self, x: \"ComplexNumber\")->\"ComplexNumber\":\n",
    "        m = x.real + self.real\n",
    "        n = x.imaginary + self.imaginary\n",
    "        return ComplexNumber(m,n)\n",
    "        # Complete the function\n",
    "    \n",
    "    \n",
    "    def subtract(self, x: \"ComplexNumber\")->\"ComplexNumber\":\n",
    "        m = self.real - x.real\n",
    "        n = self.imaginary - x.imaginary\n",
    "        return ComplexNumber(m,n)\n",
    "        # Complete the function\n",
    "        \n",
    "        \n",
    "    def multiply(self, x: \"ComplexNumber\")->\"ComplexNumber\":\n",
    "        m = x.real * self.real - x.imaginary * self.imaginary\n",
    "        n = self.imaginary * x.real + self.real * x.imaginary\n",
    "        return ComplexNumber(m,n)\n",
    "        # Complete the function\n",
    "    \n",
    "    \n",
    "    def divide(self, x: \"ComplexNumber\")->\"ComplexNumber\":\n",
    "        m = (self.real * x.real + self.imaginary * x.imaginary) / (x.real * x.real + x.imaginary * x.imaginary)\n",
    "        n = (self.imaginary * x.real - self.real * x.imaginary) / (x.real * x.real + x.imaginary * x.imaginary)\n",
    "        return ComplexNumber(m,n)\n",
    "        # Complete the function\n",
    "    \n",
    "    \n",
    "        \n",
    "# ComplexNumber a = new ComplexNumber(10, 5)\n",
    "# ComplexNumber b = new ComplexNumber(2, 3)\n",
    "# ComplexNumber c1 = a.add(b) \n",
    "# ComplexNumber c2 = a.subtract(b)\n",
    "# ComplexNumber c3 = a.multiply(b)\n",
    "# ComplexNumber c4 = a.divide(b)"
   ]
  },
  {
   "cell_type": "code",
   "execution_count": 6,
   "id": "bbbf6126",
   "metadata": {},
   "outputs": [
    {
     "data": {
      "text/plain": [
       "<__main__.ComplexNumber at 0x2520f3c7670>"
      ]
     },
     "execution_count": 6,
     "metadata": {},
     "output_type": "execute_result"
    }
   ],
   "source": [
    "ComplexNumber(10, 5)"
   ]
  }
 ],
 "metadata": {
  "kernelspec": {
   "display_name": "Python 3 (ipykernel)",
   "language": "python",
   "name": "python3"
  },
  "language_info": {
   "codemirror_mode": {
    "name": "ipython",
    "version": 3
   },
   "file_extension": ".py",
   "mimetype": "text/x-python",
   "name": "python",
   "nbconvert_exporter": "python",
   "pygments_lexer": "ipython3",
   "version": "3.9.13"
  }
 },
 "nbformat": 4,
 "nbformat_minor": 5
}
